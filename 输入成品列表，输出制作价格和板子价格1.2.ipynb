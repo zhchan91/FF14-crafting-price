{
 "cells": [
  {
   "cell_type": "code",
   "execution_count": 1,
   "metadata": {},
   "outputs": [],
   "source": [
    "import lxml.html as lx\n",
    "import lxml.html as lx\n",
    "import numpy as np\n",
    "import pandas as pd\n",
    "import requests\n",
    "import requests_cache\n",
    "import time\n",
    "\n",
    "requests_cache.install_cache(\"cache\")"
   ]
  },
  {
   "cell_type": "code",
   "execution_count": 2,
   "metadata": {},
   "outputs": [
    {
     "name": "stdout",
     "output_type": "stream",
     "text": [
      "此版本仅供旅人栈桥-Soma丸子亲友使用\n",
      "属于测试版本，BUG巨多\n"
     ]
    }
   ],
   "source": [
    "print(\"此版本仅供旅人栈桥-Soma丸子亲友使用\")\n",
    "print(\"属于测试版本，BUG巨多\")"
   ]
  },
  {
   "cell_type": "code",
   "execution_count": 3,
   "metadata": {},
   "outputs": [
    {
     "name": "stdout",
     "output_type": "stream",
     "text": [
      "读取\"成品列表.xlsx\"\n"
     ]
    }
   ],
   "source": [
    "print('读取\"成品列表.xlsx\"')\n",
    "product=pd.read_excel(\"成品列表.xlsx\")"
   ]
  },
  {
   "cell_type": "code",
   "execution_count": 9,
   "metadata": {},
   "outputs": [
    {
     "name": "stdout",
     "output_type": "stream",
     "text": [
      "请输入是哪个大区（数字）,比如2区就输入2\n",
      "2\n"
     ]
    }
   ],
   "source": [
    "while 1:\n",
    "    print(\"请输入是哪个大区（数字）,比如2区就输入2\")\n",
    "    a = input(\"\")\n",
    "    if a == '1':\n",
    "        dcName = '陆行鸟'\n",
    "        break\n",
    "    if a == '2':\n",
    "        dcName = '莫古力'\n",
    "        break   \n",
    "    if a == '3':\n",
    "        dcName = '猫小胖'\n",
    "        break  \n",
    "print('选择了'+dcName+'服务器')"
   ]
  },
  {
   "cell_type": "code",
   "execution_count": null,
   "metadata": {},
   "outputs": [
    {
     "name": "stdout",
     "output_type": "stream",
     "text": [
      "输入服务器名字，可以直接输入\"1\"为旅人栈桥，2为梦羽宝境，其他服务器需要手动输入名字\n",
      "哈哈\n",
      "嗯？你输入的这个服务器怎么连火之碎晶都没有人在卖的，或者是universalis炸了,重新输入吧\n",
      "输入服务器名字，可以直接输入\"1\"为旅人栈桥，2为梦羽宝境，其他服务器需要手动输入名字\n"
     ]
    }
   ],
   "source": [
    "while 1:\n",
    "    url='http://universalis.diemoe.net/api/'\n",
    "    print('输入服务器名字，可以直接输入\"1\"为旅人栈桥，2为梦羽宝境，其他服务器需要手动输入名字')\n",
    "    a = input(\"\")\n",
    "    if a == \"1\":\n",
    "        worldID = '旅人栈桥'\n",
    "        break\n",
    "    if a == \"2\":\n",
    "        worldID = '梦羽宝境'\n",
    "        break\n",
    "    response = requests.get(url+a+\"/2\")\n",
    "    b = response.json()\n",
    "    if b['listings'] != []:\n",
    "        worldID = a\n",
    "        break\n",
    "    print('嗯？你输入的这个服务器怎么连火之碎晶都没有人在卖的，或者是universalis炸了,重新输入吧')\n",
    "print('选择了'+worldID+'服务器')"
   ]
  },
  {
   "cell_type": "code",
   "execution_count": 7,
   "metadata": {},
   "outputs": [],
   "source": [
    "#创建ID字典\n",
    "ID = {}\n",
    "ID_product = {}"
   ]
  },
  {
   "cell_type": "code",
   "execution_count": 8,
   "metadata": {},
   "outputs": [
    {
     "ename": "TypeError",
     "evalue": "can only concatenate str (not \"float\") to str",
     "output_type": "error",
     "traceback": [
      "\u001b[1;31m---------------------------------------------------------------------------\u001b[0m",
      "\u001b[1;31mTypeError\u001b[0m                                 Traceback (most recent call last)",
      "\u001b[1;32m<ipython-input-8-f48e185ebd64>\u001b[0m in \u001b[0;36m<module>\u001b[1;34m\u001b[0m\n\u001b[0;32m      2\u001b[0m \u001b[1;32mfor\u001b[0m \u001b[0mi\u001b[0m \u001b[1;32min\u001b[0m \u001b[0mrange\u001b[0m\u001b[1;33m(\u001b[0m\u001b[0mlen\u001b[0m\u001b[1;33m(\u001b[0m\u001b[0mproduct\u001b[0m\u001b[1;33m)\u001b[0m\u001b[1;33m)\u001b[0m\u001b[1;33m:\u001b[0m\u001b[1;33m\u001b[0m\u001b[1;33m\u001b[0m\u001b[0m\n\u001b[0;32m      3\u001b[0m     \u001b[0mtime\u001b[0m\u001b[1;33m.\u001b[0m\u001b[0msleep\u001b[0m\u001b[1;33m(\u001b[0m\u001b[1;36m0.1\u001b[0m\u001b[1;33m)\u001b[0m\u001b[1;33m\u001b[0m\u001b[1;33m\u001b[0m\u001b[0m\n\u001b[1;32m----> 4\u001b[1;33m     \u001b[0mresponse\u001b[0m \u001b[1;33m=\u001b[0m \u001b[0mrequests\u001b[0m\u001b[1;33m.\u001b[0m\u001b[0mget\u001b[0m\u001b[1;33m(\u001b[0m\u001b[0murl\u001b[0m\u001b[1;33m+\u001b[0m\u001b[0mproduct\u001b[0m\u001b[1;33m.\u001b[0m\u001b[0miloc\u001b[0m\u001b[1;33m[\u001b[0m\u001b[0mi\u001b[0m\u001b[1;33m,\u001b[0m\u001b[1;36m0\u001b[0m\u001b[1;33m]\u001b[0m\u001b[1;33m)\u001b[0m\u001b[1;33m\u001b[0m\u001b[1;33m\u001b[0m\u001b[0m\n\u001b[0m\u001b[0;32m      5\u001b[0m     \u001b[1;32mtry\u001b[0m\u001b[1;33m:\u001b[0m\u001b[1;33m\u001b[0m\u001b[1;33m\u001b[0m\u001b[0m\n\u001b[0;32m      6\u001b[0m         \u001b[0mresponse\u001b[0m\u001b[1;33m.\u001b[0m\u001b[0mraise_for_status\u001b[0m\u001b[1;33m(\u001b[0m\u001b[1;33m)\u001b[0m\u001b[1;33m\u001b[0m\u001b[1;33m\u001b[0m\u001b[0m\n",
      "\u001b[1;31mTypeError\u001b[0m: can only concatenate str (not \"float\") to str"
     ]
    }
   ],
   "source": [
    "url = \"https://ff14.huijiwiki.com/wiki/物品:\"\n",
    "for i in range(len(product)):\n",
    "    time.sleep(0.1)\n",
    "    try:\n",
    "        response = requests.get(url+product.iloc[i,0])\n",
    "    except:\n",
    "        print('有点问题哈，检查一下excel文件里面，黄色区域之外的内容有没有删除')\n",
    "        print('直接关闭窗口吧，相当于遇到BUG了，我还没解决')\n",
    "        os.system(\"pause\")\n",
    "    try:\n",
    "        response.raise_for_status()\n",
    "        doc = response.text\n",
    "        html = lx.fromstring(doc)\n",
    "        first = html.xpath(\"//td/ul/li/ul/li/div/span[1]\")#读取直接材料名字\n",
    "        first_num = html.xpath(\"//td/ul/li/ul/li/div/span[2]\")#读取直接材料数量\n",
    "        locals()[\"fir\"+str(i)] = [x.text_content() for x in first]#记录一级材料名字\n",
    "        locals()[\"fir_num\"+str(i)] = [int(x.text_content().split('×',)[1]) for x in first_num]#记录一级材料对应数量\n",
    "        ID_product[product.iloc[i,0]]=html.xpath(\"//*[@class='ff14-hardcore']\")[0].text_content().split(\"：\")[1]#记录成品的ID\n",
    "    except:\n",
    "        print(\"wiki无法找到目标成品:\"+product.iloc[i,0])\n",
    "        locals()[\"fir\"+str(i)]  = []\n",
    "        locals()[\"fir_num\"+str(i)] = []"
   ]
  },
  {
   "cell_type": "code",
   "execution_count": null,
   "metadata": {},
   "outputs": [],
   "source": [
    "fir = []\n",
    "for i in range(len(product)):\n",
    "    fir += locals()[\"fir\"+str(i)]\n",
    "fir = list(set(fir))\n",
    "fir.sort()"
   ]
  },
  {
   "cell_type": "code",
   "execution_count": null,
   "metadata": {},
   "outputs": [],
   "source": [
    "url = \"https://ff14.huijiwiki.com/wiki/物品:\"\n",
    "for i in range(len(fir)):\n",
    "    time.sleep(0.1)\n",
    "    try:\n",
    "        response = requests.get(url+fir[i])\n",
    "        response.raise_for_status()\n",
    "        doc = response.text\n",
    "        html = lx.fromstring(doc)\n",
    "        second = html.xpath(\"//td/ul/li/ul/li/div/span[1]\")\n",
    "        second_num = html.xpath(\"//td/ul/li/ul/li/div/span[2]\")\n",
    "        locals()[\"sec\"+str(i)] = [x.text_content() for x in second]#记录需要的二级材料名字\n",
    "        locals()[\"sec_num\"+str(i)] = [int(x.text_content().split('×',)[1]) for x in second_num]#记录需要的二级材料对应数量\n",
    "        ID[fir[i]]=html.xpath(\"//*[@class='ff14-hardcore']\")[0].text_content().split(\"：\")[1]#记录一级材料的ID\n",
    "    except:\n",
    "        print(\"wiki有关页面404了:\"+fir[i])\n",
    "        locals()[\"sec\"+str(i)] = []\n",
    "        locals()[\"sec_num\"+str(i)] = []"
   ]
  },
  {
   "cell_type": "code",
   "execution_count": null,
   "metadata": {},
   "outputs": [],
   "source": [
    "sec = []\n",
    "for i in range(len(fir)):\n",
    "    sec += locals()[\"sec\"+str(i)]\n",
    "sec = list(set(sec))\n",
    "sec.sort()"
   ]
  },
  {
   "cell_type": "code",
   "execution_count": null,
   "metadata": {},
   "outputs": [],
   "source": [
    "url = \"https://ff14.huijiwiki.com/wiki/物品:\"\n",
    "for i in range(len(sec)):\n",
    "    time.sleep(0.1)\n",
    "    try:\n",
    "        response = requests.get(url+sec[i])\n",
    "        response.raise_for_status()\n",
    "        doc = response.text\n",
    "        html = lx.fromstring(doc)\n",
    "        ID[sec[i]]=html.xpath(\"//*[@class='ff14-hardcore']\")[0].text_content().split(\"：\")[1]#记录二级材料的ID\n",
    "    except:\n",
    "        print(\"wiki有关页面404了:\"+sec[i])"
   ]
  },
  {
   "cell_type": "code",
   "execution_count": null,
   "metadata": {},
   "outputs": [],
   "source": [
    "url = \"http://universalis.diemoe.net/api/\"+worldID+\"/\"\n",
    "url2 = \"http://universalis.diemoe.net/api/\"+dcName+\"/\"\n",
    "product_price=pd.DataFrame(columns=(worldID+'HQ最低价格',worldID+'NQ最低价格',dcName+'HQ最低价格','HQ低价所在服务器',dcName+'NQ最低价格','NQ低价所在服务器'))\n",
    "for i in ID_product:\n",
    "    time.sleep(0.1)\n",
    "    #看本服价格\n",
    "    response = requests.get(url+ ID_product[i])\n",
    "    a = response.json()\n",
    "    #hq最低价格\n",
    "    if [x['pricePerUnit'] for x in a['listings'] if x['hq']==True]:\n",
    "        hqprice = [x['pricePerUnit'] for x in a['listings'] if x['hq']==True][0]\n",
    "    else:\n",
    "        hqprice = '无'\n",
    "    #nq最低价格\n",
    "    if [x['pricePerUnit'] for x in a['listings'] if x['hq']==False]:\n",
    "        nqprice = [x['pricePerUnit'] for x in a['listings'] if x['hq']==False][0]\n",
    "    else:\n",
    "        nqprice = '无'\n",
    "    #看本区价格\n",
    "    response = requests.get(url2+ ID_product[i])\n",
    "    a = response.json()\n",
    "    #本区hq最低价格\n",
    "    if [x['pricePerUnit'] for x in a['listings'] if x['hq']==True]:\n",
    "        dchqprice = [x['pricePerUnit'] for x in a['listings'] if x['hq']==True][0]\n",
    "        dchqworld = [x['worldName'] for x in a['listings'] if x['hq']==True][0]\n",
    "    else:\n",
    "        dchqprice = '无'\n",
    "        dchqworld = '无'\n",
    "    #本区nq最低价格\n",
    "    if [x['pricePerUnit'] for x in a['listings'] if x['hq']==False]:\n",
    "        dcnqprice = [x['pricePerUnit'] for x in a['listings'] if x['hq']==False][0]\n",
    "        dcnqworld = [x['worldName'] for x in a['listings'] if x['hq']==False][0]\n",
    "    else:\n",
    "        dcnqprice = '无'\n",
    "        dcnqworld = '无'\n",
    "    \n",
    "    product_price.loc[i]=[hqprice,nqprice,dchqprice,dchqworld,dcnqprice,dcnqworld]"
   ]
  },
  {
   "cell_type": "code",
   "execution_count": null,
   "metadata": {},
   "outputs": [],
   "source": [
    "url = \"http://universalis.diemoe.net/api/\"+worldID+\"/\"\n",
    "url2 = \"http://universalis.diemoe.net/api/\"+dcName+\"/\"\n",
    "material_price=pd.DataFrame(columns=(worldID+'最低价格',dcName+'最低价格','低价所在服务器'))\n",
    "for i in ID:\n",
    "    time.sleep(0.1)\n",
    "    #看本服价格\n",
    "    response = requests.get(url+ ID[i])\n",
    "    a = response.json()\n",
    "    #最低价格\n",
    "    if [x['pricePerUnit'] for x in a['listings']]:\n",
    "        price = [x['pricePerUnit'] for x in a['listings']][0]\n",
    "    else:\n",
    "        price = '无'\n",
    "    #看本区价格\n",
    "    response = requests.get(url2+ ID[i])\n",
    "    a = response.json()\n",
    "    #本区最低价格\n",
    "    if [x['pricePerUnit'] for x in a['listings']]:\n",
    "        dcprice = [x['pricePerUnit'] for x in a['listings']][0]\n",
    "        dcworld = [x['worldName'] for x in a['listings']][0]\n",
    "    else:\n",
    "        dcprice = '无'\n",
    "        dcworld = '无'\n",
    "\n",
    "    material_price.loc[i]=[price,dcprice,dcworld]"
   ]
  },
  {
   "cell_type": "code",
   "execution_count": null,
   "metadata": {},
   "outputs": [],
   "source": [
    "#现在需要取得是输入材料名，给出最低价格\n",
    "#这个部分没有考虑市场上最低价格的材料够不够数量"
   ]
  },
  {
   "cell_type": "code",
   "execution_count": null,
   "metadata": {},
   "outputs": [],
   "source": [
    "first_cost=pd.DataFrame(columns=(worldID+'最低板子价格',\n",
    "                                 '只用'+worldID+'材料来制作',\n",
    "                                 dcName+'最低板子价格',\n",
    "                                 \"板子最低所在服务器\",\n",
    "                                 dcName+\"最便宜材料来制作\"))\n",
    "for i in range(len(fir)):\n",
    "    url = \"https://ff14.huijiwiki.com/wiki/物品:\"\n",
    "    try:\n",
    "        response = requests.get(url+fir[i])\n",
    "        response.raise_for_status()\n",
    "        doc = response.text\n",
    "        html = lx.fromstring(doc)\n",
    "        #一次制作做多少个\n",
    "        test = html.xpath(\"//td/ul/li/div//*[@class='item-number']\")\n",
    "        craft_num = [int(x.text_content().split('×',)[1]) for x in test]\n",
    "        craft_num += [1]\n",
    "        #需要的材料以及数量\n",
    "        test = html.xpath(\"//td/ul/li/ul/li/div/span[1]\")\n",
    "        test_num = html.xpath(\"//td/ul/li/ul/li/div/span[2]\")\n",
    "        cost = [x.text_content() for x in test]\n",
    "        cost_num = [int(x.text_content().split('×',)[1]) for x in test_num]\n",
    "        \n",
    "        #计算成本\n",
    "        test = []\n",
    "        test2 = []\n",
    "        for j in cost:\n",
    "            test += [int(material_price.loc[j,worldID+'最低价格'])]\n",
    "            test2 += [int(material_price.loc[j,dcName+\"最低价格\"])]\n",
    "        crafted_cost = sum(np.multiply(cost_num,test))/craft_num[0]\n",
    "        crafted_cost2 = sum(np.multiply(cost_num,test2))/craft_num[0]\n",
    "        first_cost.loc[fir[i]]=[material_price.loc[fir[i],worldID+'最低价格'],\n",
    "                                crafted_cost,\n",
    "                                material_price.loc[fir[i],dcName+'最低价格'],\n",
    "                                material_price.loc[fir[i],\"低价所在服务器\"],\n",
    "                                crafted_cost2]\n",
    "    except:\n",
    "        first_cost.loc[fir[i]]=[9999999,9999999,9999999,\"无法取得物品ID网页404\",9999999]"
   ]
  },
  {
   "cell_type": "code",
   "execution_count": null,
   "metadata": {},
   "outputs": [],
   "source": [
    "#用最便宜的方案制作一级材料，看是要直接买，还是自己做,生成一级材料价格表\n",
    "material = first_cost.copy()\n",
    "del material['只用'+worldID+'材料来制作']\n",
    "del material[dcName+\"最便宜材料来制作\"]\n",
    "del material['板子最低所在服务器']\n",
    "material.columns=[worldID,dcName]\n",
    "for i in range(len(material)):\n",
    "    if first_cost.iloc[i,1]!= 0:#排除无法制作的商品\n",
    "        if first_cost.iloc[i,1]<first_cost.iloc[i,0]:#判断是否用制作价格替换市场价格\n",
    "            material.loc[first_cost.index[i],worldID]=int(first_cost.iloc[i,1])\n",
    "        if first_cost.iloc[i,4]<first_cost.iloc[i,2]:#判断是否用制作价格替换市场价格\n",
    "            material.loc[first_cost.index[i],dcName]=int(first_cost.iloc[i,4])"
   ]
  },
  {
   "cell_type": "code",
   "execution_count": null,
   "metadata": {},
   "outputs": [],
   "source": [
    "product_cost=pd.DataFrame(columns=(worldID+'HQ最低价格',\n",
    "                                   worldID+'NQ最低价格',\n",
    "                                   '只用'+worldID+\"材料制作\",\n",
    "                                    dcName+'HQ最低价格',\n",
    "                                    'HQ低价所在服务器',\n",
    "                                    dcName+'NQ最低价格',\n",
    "                                    'NQ低价所在服务器',\n",
    "                                   dcName+\"最低成本价\"))\n",
    "for i in range(len(product)):\n",
    "    url = \"https://ff14.huijiwiki.com/wiki/物品:\"\n",
    "    try:\n",
    "        response = requests.get(url+product.iloc[i,0])\n",
    "        response.raise_for_status()\n",
    "        doc = response.text\n",
    "        html = lx.fromstring(doc)\n",
    "        #一次制作做多少个\n",
    "        test = html.xpath(\"//td/ul/li/div//*[@class='item-number']\")\n",
    "        craft_num = [int(x.text_content().split('×',)[1]) for x in test]\n",
    "        craft_num += [1]\n",
    "        #需要的材料以及数量\n",
    "        test = html.xpath(\"//td/ul/li/ul/li/div/span[1]\")\n",
    "        test_num = html.xpath(\"//td/ul/li/ul/li/div/span[2]\")\n",
    "        cost = [x.text_content() for x in test]\n",
    "        cost_num = [int(x.text_content().split('×',)[1]) for x in test_num]\n",
    "        \n",
    "        #计算成本\n",
    "        test = []\n",
    "        test2 = []\n",
    "        for j in cost:\n",
    "            test += [int(material.loc[j,worldID])]\n",
    "            test2 += [int(material.loc[j,dcName])]\n",
    "        crafted_cost = sum(np.multiply(cost_num,test))/craft_num[0]\n",
    "        crafted_cost2 = sum(np.multiply(cost_num,test2))/craft_num[0]\n",
    "        product_cost.loc[product.iloc[i,0]]=[product_price.loc[product.iloc[i,0],worldID+'HQ最低价格'],\n",
    "                                             product_price.loc[product.iloc[i,0],worldID+'NQ最低价格'],\n",
    "                                             crafted_cost,\n",
    "                                             product_price.loc[product.iloc[i,0],dcName+'HQ最低价格'],                                             \n",
    "                                             product_price.loc[product.iloc[i,0],'HQ低价所在服务器'],\n",
    "                                             product_price.loc[product.iloc[i,0],dcName+'NQ最低价格'],\n",
    "                                             product_price.loc[product.iloc[i,0],'NQ低价所在服务器'],\n",
    "                                             crafted_cost2]\n",
    "    except:\n",
    "        product_cost.loc[product.iloc[i,0]]=[\"X\",\"X\",\"X\",\"无法取得物品ID网页404\",\"X\",\"X\",\"X\",\"X\"]"
   ]
  },
  {
   "cell_type": "code",
   "execution_count": null,
   "metadata": {},
   "outputs": [],
   "source": [
    "pd.DataFrame(product_cost).to_csv(r'./成品价格对比.csv',index=True,sep=',',encoding='utf_8_sig')\n",
    "pd.DataFrame(first_cost).to_csv(r'./一级材料价格对比.csv',index=True,sep=',',encoding='utf_8_sig')\n",
    "pd.DataFrame(material_price).to_csv(r'./基础材料价格一栏.csv',index=True,sep=',',encoding='utf_8_sig')\n",
    "print('搞定')\n",
    "os.system(\"pause\")"
   ]
  }
 ],
 "metadata": {
  "kernelspec": {
   "display_name": "Python 3",
   "language": "python",
   "name": "python3"
  },
  "language_info": {
   "codemirror_mode": {
    "name": "ipython",
    "version": 3
   },
   "file_extension": ".py",
   "mimetype": "text/x-python",
   "name": "python",
   "nbconvert_exporter": "python",
   "pygments_lexer": "ipython3",
   "version": "3.8.1"
  }
 },
 "nbformat": 4,
 "nbformat_minor": 2
}
